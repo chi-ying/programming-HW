{
  "nbformat": 4,
  "nbformat_minor": 0,
  "metadata": {
    "colab": {
      "provenance": []
    },
    "kernelspec": {
      "name": "python3",
      "display_name": "Python 3"
    },
    "language_info": {
      "name": "python"
    }
  },
  "cells": [
    {
      "cell_type": "code",
      "execution_count": null,
      "metadata": {
        "colab": {
          "base_uri": "https://localhost:8080/"
        },
        "id": "_i4dNZC9o_IL",
        "outputId": "d678bea9-808f-4816-8b95-c10f3862c66c"
      },
      "outputs": [
        {
          "output_type": "stream",
          "name": "stdout",
          "text": [
            "Hello, World! hehe7755\n"
          ]
        }
      ],
      "source": [
        "print('Hello, World! hehe7755')"
      ]
    }
  ]
}